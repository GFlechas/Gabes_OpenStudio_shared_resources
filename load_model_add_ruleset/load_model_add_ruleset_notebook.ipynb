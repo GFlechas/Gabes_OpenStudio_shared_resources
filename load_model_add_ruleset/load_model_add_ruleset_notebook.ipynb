{
 "cells": [
  {
   "cell_type": "code",
   "execution_count": 1,
   "metadata": {},
   "outputs": [
    {
     "name": "stdout",
     "output_type": "stream",
     "text": [
      "c:/TheBlackHole/CLT Graduate Research/Gabes_OpenStudio_shared_resources/load_model_add_ruleset/TestShoeBox.osm\n"
     ]
    }
   ],
   "source": [
    "import os\n",
    "import openstudio\n",
    "\n",
    "osm_name_box = 'TestShoeBox.osm'\n",
    "current_dir = os.getcwd()\n",
    "osm_path = os.path.join(current_dir,osm_name_box)\n",
    "osm_path = openstudio.path(osm_path) # I guess this is how it wants the path for the translator\n",
    "print(osm_path)"
   ]
  },
  {
   "cell_type": "code",
   "execution_count": 2,
   "metadata": {},
   "outputs": [],
   "source": [
    "t = True\n",
    "if t == True:\n",
    "    translator = openstudio.osversion.VersionTranslator()\n",
    "    osm = translator.loadModel(osm_path).get()\n",
    "else:\n",
    "    osm = openstudio.model.Model.load(osm_path).get()\n",
    "# print(\"Building model \\n\\n\",osm)"
   ]
  },
  {
   "cell_type": "code",
   "execution_count": 3,
   "metadata": {},
   "outputs": [
    {
     "name": "stdout",
     "output_type": "stream",
     "text": [
      "Core Thermal\n",
      "['__class__', '__delattr__', '__dict__', '__dir__', '__doc__', '__eq__', '__format__', '__ge__', '__getattribute__', '__gt__', '__hash__', '__init__', '__init_subclass__', '__le__', '__lt__', '__module__', '__ne__', '__new__', '__reduce__', '__reduce_ex__', '__ref__', '__repr__', '__setattr__', '__sizeof__', '__str__', '__subclasshook__', '__swig_destroy__', '__weakref__', 'get', 'isNull', 'is_initialized', 'reset', 'set', 'this', 'thisown']\n",
      "Test Rename\n"
     ]
    }
   ],
   "source": [
    "# Found this little bit of code here:\n",
    "# https://unmethours.com/question/2125/anyone-developing-python-code-for-direct-idf-manipulation/\n",
    "# So I guess I pass the model object INTO openstudio.model in order to engage with it.\n",
    "# Good grief -_-\n",
    "zones = [zone for zone in openstudio.model.getThermalZones(osm)]\n",
    "\n",
    "# Let's try renaming a zone\n",
    "print(zones[0].name().get())\n",
    "print(dir(zones[0].name()))\n",
    "zones[0].setName('Test Rename')\n",
    "print(zones[0].name().get())\n",
    "# Ok that works, let's see if I can get the load schedules I'm after"
   ]
  },
  {
   "cell_type": "code",
   "execution_count": 4,
   "metadata": {},
   "outputs": [
    {
     "name": "stdout",
     "output_type": "stream",
     "text": [
      "Building 1\n",
      "\n",
      " Schedule names\n",
      "Small Office Bldg Occ\n",
      "Small Office Activity\n",
      "Office Bldg Light\n",
      "Small Office Bldg Equip\n",
      "Small Office Infil Quarter On\n",
      "\n",
      " Electric Equipment Definitions\n",
      "189.1-2009 - Office - WholeBuilding - Sm Office - CZ4-8 Electric Equipment Definition\n"
     ]
    }
   ],
   "source": [
    "print(osm.building().get().name())\n",
    "\n",
    "print('\\n Schedule names')\n",
    "schedules = osm.getSchedules()\n",
    "for sch in schedules:\n",
    "    print(sch.name())\n",
    "\n",
    "print('\\n Electric Equipment Definitions')\n",
    "loads = osm.getElectricEquipmentDefinitions()\n",
    "for l in loads:\n",
    "    print(l.name())"
   ]
  },
  {
   "cell_type": "code",
   "execution_count": 5,
   "metadata": {},
   "outputs": [],
   "source": [
    "osm_model_options = dir(osm)"
   ]
  },
  {
   "cell_type": "code",
   "execution_count": 6,
   "metadata": {},
   "outputs": [
    {
     "name": "stdout",
     "output_type": "stream",
     "text": [
      "\n",
      " Electric Equipment Definitions\n",
      "OS:ElectricEquipment:Definition,\n",
      "  {4efb2316-c70e-4c42-be79-37a1bb1fb333}, !- Handle\n",
      "  189.1-2009 - Office - WholeBuilding - Sm Office - CZ4-8 Electric Equipment Definition, !- Name\n",
      "  Watts/Area,                             !- Design Level Calculation Method\n",
      "  ,                                       !- Design Level {W}\n",
      "  5.81251162502325,                       !- Watts per Space Floor Area {W/m2}\n",
      "  ;                                       !- Watts per Person {W/person}\n",
      "\n",
      "\n",
      "OS:ElectricEquipment:Definition,\n",
      "  {4efb2316-c70e-4c42-be79-37a1bb1fb333}, !- Handle\n",
      "  New Load,                               !- Name\n",
      "  EquipmentLevel,                         !- Design Level Calculation Method\n",
      "  100,                                    !- Design Level {W}\n",
      "  ,                                       !- Watts per Space Floor Area {W/m2}\n",
      "  ;                                       !- Watts per Person {W/person}\n",
      "\n",
      "\n",
      "New Load\n",
      "Electric Equipment Definition 1\n"
     ]
    }
   ],
   "source": [
    "print('\\n Electric Equipment Definitions')\n",
    "loads = openstudio.model.getElectricEquipmentDefinitions(osm)\n",
    "# for l in loads:\n",
    "#     print(l)\n",
    "\n",
    "added_load = loads[0]\n",
    "print(added_load)\n",
    "added_load.setName('New Load')\n",
    "added_load.setWattsperSpaceFloorArea(0)\n",
    "added_load.setDesignLevel(100)\n",
    "print(added_load)\n",
    "osm.addObject(added_load)\n",
    "loads = openstudio.model.getElectricEquipmentDefinitions(osm)\n",
    "for load in loads:\n",
    "    print(load.name().get())"
   ]
  },
  {
   "cell_type": "code",
   "execution_count": 7,
   "metadata": {},
   "outputs": [
    {
     "name": "stdout",
     "output_type": "stream",
     "text": [
      "OS:ElectricEquipment:Definition,\n",
      "  {42c62e72-6a4a-49a4-92ca-38fb17c39a7b}, !- Handle\n",
      "  A Test Load,                            !- Name\n",
      "  EquipmentLevel,                         !- Design Level Calculation Method\n",
      "  490,                                    !- Design Level {W}\n",
      "  ,                                       !- Watts per Space Floor Area {W/m2}\n",
      "  ;                                       !- Watts per Person {W/person}\n",
      "\n",
      "\n",
      "['New Load', 'Electric Equipment Definition 1', 'A Test Load']\n"
     ]
    }
   ],
   "source": [
    "# Let's try making an object from scratch and then adding it to the model\n",
    "def electric_load_template(os_model, name, design_level):\n",
    "    # function to take in the info and returns an OS load object\n",
    "    load = openstudio.model.ElectricEquipmentDefinition(os_model)\n",
    "    load.setName(name)\n",
    "    load.setDesignLevel(design_level)\n",
    "    return load\n",
    "\n",
    "new_load = electric_load_template(osm, \"A Test Load\", 490)\n",
    "print(new_load)\n",
    "\n",
    "current_loads = print([load.name().get() for load in openstudio.model.getElectricEquipmentDefinitions(osm)])\n",
    "\n",
    "# Ok this is pretty neat. The line load = openstudio.model.ElectricEquipmentDefinition(os_model)\n",
    "# makes a new object in the model that I can then edit. I don't even have to save it! It \n",
    "# just makes it!"
   ]
  },
  {
   "cell_type": "code",
   "execution_count": 8,
   "metadata": {},
   "outputs": [
    {
     "name": "stdout",
     "output_type": "stream",
     "text": [
      "01:00:00\n",
      "2009-Jan-01\n"
     ]
    }
   ],
   "source": [
    "# Let's try to make a new schedule now\n",
    "# Handy unmethours link related to inserting a schedule from a csv\n",
    "# https://unmethours.com/question/14348/can-you-load-schedulefile-in-openstudio/\n",
    "import random\n",
    "def make_an_interval_schedule(os_model, schedule_values, name):\n",
    "    \"\"\"Creates a new interval schedule for an Openstudio Model and returns the object\n",
    "\n",
    "    Args:\n",
    "        os_model (Openstudio Object): Desired Openstudio Model\n",
    "        schedule_values (List object): A list of the values for the schedule\n",
    "        name (String): Name of the schedule\n",
    "\n",
    "    Returns:\n",
    "        OS Schedule Object: Returns the newly created schedule object\n",
    "    \"\"\"\n",
    "    # os_vector = openstudio.Vector(len(timeseries_list))\n",
    "    # for i in timeseries_list:\n",
    "    #     os_vector[i] = timeseries_list[i]\n",
    "    # date = openstudio.Date.new(openstudio.MonthOfYear.new(\"Jan\"), 1, 2009)\n",
    "    # time = openstudio.Time.new(0,1,0,0)\n",
    "    # timeseries = openstudio.Timeseries.new(date,time,os_vector)\n",
    "    \n",
    "    # hard coding the interval until I figure the rest out, then I'll back track\n",
    "    # so I can infer it from the data given\n",
    "    interval = openstudio.Time(0,1,0)\n",
    "    print(interval)\n",
    "    # Hard cording the units \n",
    "    unit_choice = 'unitless'\n",
    "    start_date = openstudio.Date(openstudio.MonthOfYear(1),1)\n",
    "    print(start_date)\n",
    "    time_series = openstudio.TimeSeries(start_date, interval, schedule_values, unit_choice)\n",
    "    new_schedule = openstudio.model.ScheduleInterval.fromTimeSeries(time_series,os_model)\n",
    "    new_schedule = new_schedule.get()\n",
    "    new_schedule.setString(4,'Yes') # This sets the schedule to interpolate based on the timestep, little clunky but I couldn't find the OS object directly\n",
    "    new_schedule.setName(name)\n",
    "    \n",
    "    return new_schedule\n",
    "\n",
    "# lets make a OS Vector list for every hour in a year with random values representing\n",
    "# hourly loads.\n",
    "number_of_timesteps = 8746\n",
    "schedule_values = openstudio.Vector(number_of_timesteps,0)\n",
    "for i in range(number_of_timesteps):\n",
    "    schedule_values[i]= random.random()\n",
    "\n",
    "# print(schedule_values)\n",
    "new_schedule = make_an_interval_schedule(osm,schedule_values,'Test Schedule')\n",
    "schedule_attributes = dir(new_schedule)\n",
    "# print(new_schedule)\n",
    "\n",
    "# Ok, We've got the test ruleset schedule, let's assign it to a load in a thermal zone!\n",
    "# Looks like I assign the equipment itself to a space. Weird but I'll try it."
   ]
  },
  {
   "cell_type": "code",
   "execution_count": 9,
   "metadata": {},
   "outputs": [
    {
     "name": "stdout",
     "output_type": "stream",
     "text": [
      "\n",
      " Spaces\n",
      "OS:Space,\n",
      "  {c1340cb4-3df6-4c36-b10a-cb6e109bd7fa}, !- Handle\n",
      "  Core,                                   !- Name\n",
      "  {5626772e-e4b5-4916-a858-ec64414cbf71}, !- Space Type Name\n",
      "  ,                                       !- Default Construction Set Name\n",
      "  ,                                       !- Default Schedule Set Name\n",
      "  ,                                       !- Direction of Relative North {deg}\n",
      "  ,                                       !- X Origin {m}\n",
      "  ,                                       !- Y Origin {m}\n",
      "  ,                                       !- Z Origin {m}\n",
      "  {ff0cf330-1416-4f59-8826-b943c624951d}, !- Building Story Name\n",
      "  {ecf3276e-21a7-4401-9779-a93c6ab13047}, !- Thermal Zone Name\n",
      "  ,                                       !- Part of Total Floor Area\n",
      "  ,                                       !- Design Specification Outdoor Air Object Name\n",
      "  ;                                       !- Building Unit Name\n",
      "\n",
      "\n",
      "(<openstudio.openstudiomodelgeometry.ElectricEquipment; proxy of <Swig Object of type 'openstudio::model::ElectricEquipment *' at 0x000001F156F00E70> >,)\n"
     ]
    }
   ],
   "source": [
    "print('\\n Spaces')\n",
    "spaces = openstudio.model.getSpaces(osm)\n",
    "first = spaces[0]\n",
    "print(first)\n",
    "\n",
    "test_load = openstudio.model.ElectricEquipment(new_load)\n",
    "test_load.setSpace(first)\n",
    "test_load.setName('Test Load')\n",
    "test_load.setSchedule(new_schedule)\n",
    "print(first.electricEquipment())\n",
    "# print(dir(new_load))"
   ]
  },
  {
   "cell_type": "code",
   "execution_count": 10,
   "metadata": {},
   "outputs": [
    {
     "name": "stdout",
     "output_type": "stream",
     "text": [
      "Test Load\n"
     ]
    }
   ],
   "source": [
    "for i in first.electricEquipment():\n",
    "    print(i.name())\n",
    "    \n",
    "# Bonkers, so I've gotta make the load definition, \n",
    "# and then get an ElectricEquipment object that I've passed it into, \n",
    "# and THEN I can assign it to a space? Guess I better save this \n",
    "# and load it in the application and see what I've done."
   ]
  },
  {
   "cell_type": "code",
   "execution_count": 11,
   "metadata": {},
   "outputs": [
    {
     "data": {
      "text/plain": [
       "True"
      ]
     },
     "execution_count": 11,
     "metadata": {},
     "output_type": "execute_result"
    }
   ],
   "source": [
    "# saving the model\n",
    "new_name = 'osm_added_load_and_rulset.osm'\n",
    "osm_save_path = os.path.join(os.getcwd())\n",
    "openstudio.model.saveModel(osm,new_name,osm_save_path)"
   ]
  },
  {
   "cell_type": "code",
   "execution_count": null,
   "metadata": {},
   "outputs": [],
   "source": []
  }
 ],
 "metadata": {
  "interpreter": {
   "hash": "ac59ebe37160ed0dfa835113d9b8498d9f09ceb179beaac4002f036b9467c963"
  },
  "kernelspec": {
   "display_name": "Python 3.9.6 64-bit",
   "language": "python",
   "name": "python3"
  },
  "language_info": {
   "codemirror_mode": {
    "name": "ipython",
    "version": 3
   },
   "file_extension": ".py",
   "mimetype": "text/x-python",
   "name": "python",
   "nbconvert_exporter": "python",
   "pygments_lexer": "ipython3",
   "version": "3.9.6"
  },
  "orig_nbformat": 4
 },
 "nbformat": 4,
 "nbformat_minor": 2
}
